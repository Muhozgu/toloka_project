{
 "cells": [
  {
   "metadata": {},
   "cell_type": "code",
   "outputs": [],
   "execution_count": null,
   "source": "",
   "id": "76f94ee6f9005f79"
  }
 ],
 "metadata": {},
 "nbformat": 4,
 "nbformat_minor": 5
}
